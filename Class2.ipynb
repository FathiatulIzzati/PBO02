{
  "nbformat": 4,
  "nbformat_minor": 0,
  "metadata": {
    "colab": {
      "provenance": []
    },
    "kernelspec": {
      "name": "python3",
      "display_name": "Python 3"
    },
    "language_info": {
      "name": "python"
    }
  },
  "cells": [
    {
      "cell_type": "code",
      "execution_count": null,
      "metadata": {
        "id": "r7ksbjOBWKki"
      },
      "outputs": [],
      "source": [
        "import math\n",
        "\n",
        "class Lingkaran:\n",
        "    def __init__(self, jari_jari):\n",
        "        self.jari_jari = jari_jari\n",
        "\n",
        "    def hitung_luas(self):\n",
        "        return math.pi * self.jari_jari ** 2\n",
        "\n",
        "# Membuat objek dari kelas Lingkaran\n",
        "blt = Lingkaran(10)\n",
        "print(f\"Luas lingkaran: {blt.hitung_luas():.2f}\")\n"
      ]
    }
  ]
}