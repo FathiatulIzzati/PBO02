{
  "nbformat": 4,
  "nbformat_minor": 0,
  "metadata": {
    "colab": {
      "provenance": []
    },
    "kernelspec": {
      "name": "python3",
      "display_name": "Python 3"
    },
    "language_info": {
      "name": "python"
    }
  },
  "cells": [
    {
      "cell_type": "code",
      "execution_count": null,
      "metadata": {
        "id": "r7ksbjOBWKki"
      },
      "outputs": [],
      "source": [
        "class Mobil:\n",
        "    def __init__(self, merk, kecepatan):\n",
        "        self.merk = merk\n",
        "        self.kecepatan = kecepatan\n",
        "\n",
        "    def jalan(self):\n",
        "        print(f\"Mobil {self.merk} melaju dengan kecepatan {self.kecepatan} km/jam.\")\n",
        "\n",
        "# Membuat objek dari kelas Mobil\n",
        "avanza = Mobil(\"Toyota Avanza\", 80)\n",
        "avanza.jalan()\n",
        "\n"
      ]
    }
  ]
}