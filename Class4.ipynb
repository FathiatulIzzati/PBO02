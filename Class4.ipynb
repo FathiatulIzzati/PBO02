{
  "nbformat": 4,
  "nbformat_minor": 0,
  "metadata": {
    "colab": {
      "provenance": []
    },
    "kernelspec": {
      "name": "python3",
      "display_name": "Python 3"
    },
    "language_info": {
      "name": "python"
    }
  },
  "cells": [
    {
      "cell_type": "code",
      "execution_count": null,
      "metadata": {
        "id": "r7ksbjOBWKki"
      },
      "outputs": [],
      "source": [
        "class Pegawai:\n",
        "    def __init__(self, nama, gaji):\n",
        "        self.nama = nama\n",
        "        self.gaji = gaji\n",
        "\n",
        "    def tampilkan_info(self):\n",
        "        print(f\"Pegawai: {self.nama}, Gaji: Rp{self.gaji}\")\n",
        "\n",
        "# Membuat objek dari kelas Pegawai\n",
        "pgw = Pegawai(\"Siti Rahma\", 5000000)\n",
        "pgw.tampilkan_info()\n",
        "\n",
        "\n"
      ]
    }
  ]
}