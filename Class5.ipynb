{
  "nbformat": 4,
  "nbformat_minor": 0,
  "metadata": {
    "colab": {
      "provenance": []
    },
    "kernelspec": {
      "name": "python3",
      "display_name": "Python 3"
    },
    "language_info": {
      "name": "python"
    }
  },
  "cells": [
    {
      "cell_type": "code",
      "execution_count": null,
      "metadata": {
        "id": "r7ksbjOBWKki"
      },
      "outputs": [],
      "source": [
        "class Persegi:\n",
        "    def __init__(self, sisi):\n",
        "        self.sisi = sisi\n",
        "\n",
        "    def hitung_luas(self):\n",
        "        return self.sisi ** 2\n",
        "\n",
        "# Membuat objek dari kelas Persegi\n",
        "kotak = Persegi(4)\n",
        "print(f\"Luas persegi: {kotak.hitung_luas()} satuan persegi\")\n",
        "\n",
        "\n"
      ]
    }
  ]
}